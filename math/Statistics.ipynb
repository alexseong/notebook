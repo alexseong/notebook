{
 "metadata": {
  "name": "Statistics"
 },
 "nbformat": 3,
 "nbformat_minor": 0,
 "worksheets": [
  {
   "cells": [
    {
     "cell_type": "heading",
     "level": 1,
     "metadata": {},
     "source": [
      "Statistics"
     ]
    },
    {
     "cell_type": "markdown",
     "metadata": {},
     "source": [
      "Some matplotlib and pandas experiments based on \"Head First Statistics\" from O'Reilly Media, Inc."
     ]
    },
    {
     "cell_type": "code",
     "collapsed": false,
     "input": [
      "from pandas import *"
     ],
     "language": "python",
     "metadata": {},
     "outputs": [],
     "prompt_number": 207
    },
    {
     "cell_type": "heading",
     "level": 2,
     "metadata": {},
     "source": [
      "1. First Impression"
     ]
    },
    {
     "cell_type": "heading",
     "level": 3,
     "metadata": {},
     "source": [
      "Why learn statistics? (p. 3)"
     ]
    },
    {
     "cell_type": "code",
     "collapsed": false,
     "input": [
      "profit_data = [(\"jul\", 2.0), (\"aug\", 2.1), (\"sep\", 2.2), (\"okt\", 2.1), (\"nov\", 2.3), (\"dez\", 2.4)]\n",
      "profit_data = DataFrame(profit_data, columns=[\"month\", \"profit\"])\n",
      "profit_data"
     ],
     "language": "python",
     "metadata": {},
     "outputs": [
      {
       "html": [
        "<div style=\"max-height:1000px;max-width:1500px;overflow:auto;\">\n",
        "<table border=\"1\" class=\"dataframe\">\n",
        "  <thead>\n",
        "    <tr style=\"text-align: right;\">\n",
        "      <th></th>\n",
        "      <th>month</th>\n",
        "      <th>profit</th>\n",
        "    </tr>\n",
        "  </thead>\n",
        "  <tbody>\n",
        "    <tr>\n",
        "      <td><strong>0</strong></td>\n",
        "      <td> jul</td>\n",
        "      <td> 2.0</td>\n",
        "    </tr>\n",
        "    <tr>\n",
        "      <td><strong>1</strong></td>\n",
        "      <td> aug</td>\n",
        "      <td> 2.1</td>\n",
        "    </tr>\n",
        "    <tr>\n",
        "      <td><strong>2</strong></td>\n",
        "      <td> sep</td>\n",
        "      <td> 2.2</td>\n",
        "    </tr>\n",
        "    <tr>\n",
        "      <td><strong>3</strong></td>\n",
        "      <td> okt</td>\n",
        "      <td> 2.1</td>\n",
        "    </tr>\n",
        "    <tr>\n",
        "      <td><strong>4</strong></td>\n",
        "      <td> nov</td>\n",
        "      <td> 2.3</td>\n",
        "    </tr>\n",
        "    <tr>\n",
        "      <td><strong>5</strong></td>\n",
        "      <td> dez</td>\n",
        "      <td> 2.4</td>\n",
        "    </tr>\n",
        "  </tbody>\n",
        "</table>\n",
        "</div>"
       ],
       "output_type": "pyout",
       "prompt_number": 208,
       "text": [
        "  month  profit\n",
        "0   jul     2.0\n",
        "1   aug     2.1\n",
        "2   sep     2.2\n",
        "3   okt     2.1\n",
        "4   nov     2.3\n",
        "5   dez     2.4"
       ]
      }
     ],
     "prompt_number": 208
    },
    {
     "cell_type": "code",
     "collapsed": false,
     "input": [
      "profit_fig, profit_axes = plt.subplots(nrows=1, ncols=2)\n",
      "profit_fig.set_size_inches(15,5)\n",
      "profit_axes[0].set_ylim(0, 2.5)\n",
      "profit_data.plot(ax = profit_axes[0], x=\"month\").set_title(\"Stagnating profits.\")\n",
      "profit_axes[1].set_ylim(2.0, 2.5)\n",
      "profit_data.plot(ax = profit_axes[1], x=\"month\").set_title(\"Awesome profits!\");"
     ],
     "language": "python",
     "metadata": {},
     "outputs": [
      {
       "output_type": "display_data",
       "png": "[encoded data removed]"
      }
     ],
     "prompt_number": 209
    },
    {
     "cell_type": "markdown",
     "metadata": {},
     "source": [
      "The figures use different scaling and offset of the x axes, thus giving a different impression of the profit."
     ]
    },
    {
     "cell_type": "heading",
     "level": 3,
     "metadata": {},
     "source": [
      "Manic Mango's Diagrams"
     ]
    },
    {
     "cell_type": "code",
     "collapsed": false,
     "input": [
      "mango_data = [(\"sports\", 27500, 0.99), (\"strategy\", 11500, 0.9), (\"action\", 6000, 0.85), (\"shooter\", 3500, 0.95), (\"others\", 1500, 0.85)]\n",
      "mango_data = DataFrame(mango_data, columns=[\"type\", \"sales\", \"satisfaction\"])\n",
      "mango_data"
     ],
     "language": "python",
     "metadata": {},
     "outputs": [
      {
       "html": [
        "<div style=\"max-height:1000px;max-width:1500px;overflow:auto;\">\n",
        "<table border=\"1\" class=\"dataframe\">\n",
        "  <thead>\n",
        "    <tr style=\"text-align: right;\">\n",
        "      <th></th>\n",
        "      <th>type</th>\n",
        "      <th>sales</th>\n",
        "      <th>satisfaction</th>\n",
        "    </tr>\n",
        "  </thead>\n",
        "  <tbody>\n",
        "    <tr>\n",
        "      <td><strong>0</strong></td>\n",
        "      <td>   sports</td>\n",
        "      <td> 27500</td>\n",
        "      <td> 0.99</td>\n",
        "    </tr>\n",
        "    <tr>\n",
        "      <td><strong>1</strong></td>\n",
        "      <td> strategy</td>\n",
        "      <td> 11500</td>\n",
        "      <td> 0.90</td>\n",
        "    </tr>\n",
        "    <tr>\n",
        "      <td><strong>2</strong></td>\n",
        "      <td>   action</td>\n",
        "      <td>  6000</td>\n",
        "      <td> 0.85</td>\n",
        "    </tr>\n",
        "    <tr>\n",
        "      <td><strong>3</strong></td>\n",
        "      <td>  shooter</td>\n",
        "      <td>  3500</td>\n",
        "      <td> 0.95</td>\n",
        "    </tr>\n",
        "    <tr>\n",
        "      <td><strong>4</strong></td>\n",
        "      <td>   others</td>\n",
        "      <td>  1500</td>\n",
        "      <td> 0.85</td>\n",
        "    </tr>\n",
        "  </tbody>\n",
        "</table>\n",
        "</div>"
       ],
       "output_type": "pyout",
       "prompt_number": 210,
       "text": [
        "       type  sales  satisfaction\n",
        "0    sports  27500          0.99\n",
        "1  strategy  11500          0.90\n",
        "2    action   6000          0.85\n",
        "3   shooter   3500          0.95\n",
        "4    others   1500          0.85"
       ]
      }
     ],
     "prompt_number": 210
    },
    {
     "cell_type": "code",
     "collapsed": false,
     "input": [
      "mango_colors=[\"#F3E761\", \"#F0F0F0\", \"#97C2B9\", \"#E9ABC7\", \"#CAA882\"]\n",
      "mango_fig, mango_axes = subplots(nrows=1, ncols=2)\n",
      "mango_fig.set_size_inches(16,7)\n",
      "_mango_sales = mango_data.sort(\"sales\")\n",
      "mango_axes[0].pie(_mango_sales.sales, labels=_mango_sales.type + \"\\n\" + _mango_sales.sales.astype(str), startangle=90, colors=mango_colors) # autopct='%1.1f%%'\n",
      "mango_axes[0].set_title(\"sales by type\");\n",
      "mango_axes[1].pie(_mango_sales.satisfaction, labels=_mango_sales.type + \"\\n\" + (_mango_sales.satisfaction*100).astype(str) + \"%\", startangle=90, colors=mango_colors)\n",
      "mango_axes[1].set_title(\"satisfied players by type\");\n"
     ],
     "language": "python",
     "metadata": {},
     "outputs": [
      {
       "output_type": "display_data",
       "png": "[encoded data removed]"
      }
     ],
     "prompt_number": 211
    },
    {
     "cell_type": "markdown",
     "metadata": {},
     "source": [
      "Pie charts are only useful if the values are not all similar, and if they are all parts of a common whole."
     ]
    },
    {
     "cell_type": "code",
     "collapsed": false,
     "input": [
      "mango_regions = [(\"A\", 1000), (\"B\", 5000), (\"C\", 7500), (\"D\", 8000), (\"E\", 9500)]\n",
      "mango_regions = DataFrame(mango_regions, columns=[\"region\", \"sales\"])\n",
      "mango_regions"
     ],
     "language": "python",
     "metadata": {},
     "outputs": [
      {
       "html": [
        "<div style=\"max-height:1000px;max-width:1500px;overflow:auto;\">\n",
        "<table border=\"1\" class=\"dataframe\">\n",
        "  <thead>\n",
        "    <tr style=\"text-align: right;\">\n",
        "      <th></th>\n",
        "      <th>region</th>\n",
        "      <th>sales</th>\n",
        "    </tr>\n",
        "  </thead>\n",
        "  <tbody>\n",
        "    <tr>\n",
        "      <td><strong>0</strong></td>\n",
        "      <td> A</td>\n",
        "      <td> 1000</td>\n",
        "    </tr>\n",
        "    <tr>\n",
        "      <td><strong>1</strong></td>\n",
        "      <td> B</td>\n",
        "      <td> 5000</td>\n",
        "    </tr>\n",
        "    <tr>\n",
        "      <td><strong>2</strong></td>\n",
        "      <td> C</td>\n",
        "      <td> 7500</td>\n",
        "    </tr>\n",
        "    <tr>\n",
        "      <td><strong>3</strong></td>\n",
        "      <td> D</td>\n",
        "      <td> 8000</td>\n",
        "    </tr>\n",
        "    <tr>\n",
        "      <td><strong>4</strong></td>\n",
        "      <td> E</td>\n",
        "      <td> 9500</td>\n",
        "    </tr>\n",
        "  </tbody>\n",
        "</table>\n",
        "</div>"
       ],
       "output_type": "pyout",
       "prompt_number": 212,
       "text": [
        "  region  sales\n",
        "0      A   1000\n",
        "1      B   5000\n",
        "2      C   7500\n",
        "3      D   8000\n",
        "4      E   9500"
       ]
      }
     ],
     "prompt_number": 212
    },
    {
     "cell_type": "code",
     "collapsed": false,
     "input": [
      "fig, axes = subplots(nrows=2, ncols=2)\n",
      "fig.set_size_inches(16,11)\n",
      "mango_regions_index = arange(len(mango_regions))\n",
      "mango_width=0.8\n",
      "axes[0,0].bar(mango_regions_index - mango_width/2, mango_regions.sales, width=mango_width, color=\"#cccccc\")\n",
      "axes[0,0].set_xticks(mango_regions_index)\n",
      "axes[0,0].set_xticklabels(mango_regions.region);\n",
      "axes[0,0].set_title(\"sales by region\");\n",
      "mango_data_index = arange(len(mango_data))\n",
      "\n",
      "axes[0,1].barh(mango_data_index - mango_width/2, list(reversed(list(100*mango_data.satisfaction))), height=mango_width, color=\"#cccccc\")\n",
      "axes[0,1].set_yticks(mango_data_index)\n",
      "axes[0,1].set_yticklabels(list(reversed(list(mango_data.type))))\n",
      "axes[0,1].set_title(\"satisfaction by type\");\n",
      "\n",
      "mango_data_sat = list(reversed(list(mango_data.satisfaction*mango_data.sales)))\n",
      "mango_data_notsat = list(reversed(list((1-mango_data.satisfaction)*mango_data.sales)))\n",
      "mango_b1 = axes[1,0].barh(mango_data_index, mango_data_sat, height=mango_width/2, color=\"#8888ff\")\n",
      "mango_b2 = axes[1,0].barh(mango_data_index - mango_width/2, mango_data_notsat, height=mango_width/2, color=\"#88ff88\")\n",
      "axes[1,0].set_yticks(mango_data_index)\n",
      "axes[1,0].set_yticklabels(list(reversed(list(mango_data.type))))\n",
      "axes[1,0].set_title(\"satisfaction by type (absolute)\");\n",
      "axes[1,0].legend([mango_b1, mango_b2], [\"satisfied\", \"unsatisfied\"], loc=\"lower right\");\n",
      "\n",
      "mango_b3 = axes[1,1].barh(mango_data_index - mango_width/2, mango_data_sat, height=mango_width, color=\"#8888ff\")\n",
      "mango_b4 = axes[1,1].barh(mango_data_index - mango_width/2, mango_data_notsat, left=mango_data_sat, height=mango_width, color=\"#88ff88\")\n",
      "axes[1,1].set_yticks(mango_data_index)\n",
      "axes[1,1].set_yticklabels(list(reversed(list(mango_data.type))))\n",
      "axes[1,1].set_title(\"satisfaction by type (absolute)\");\n",
      "axes[1,1].legend([mango_b3, mango_b4], [\"satisfied\", \"unsatisfied\"], loc=\"lower right\");\n"
     ],
     "language": "python",
     "metadata": {},
     "outputs": [
      {
       "output_type": "display_data",
       "png": "[encoded data removed]"
      }
     ],
     "prompt_number": 213
    },
    {
     "cell_type": "heading",
     "level": 3,
     "metadata": {},
     "source": [
      "Histogram"
     ]
    },
    {
     "cell_type": "code",
     "collapsed": false,
     "input": [
      "score_data = [(0,199,5), (200,399,29), (400,599, 56), (600, 799, 17), (800,999,3)]\n",
      "score_data = DataFrame(score_data, columns=(\"points_from\", \"points_to\", \"frequency\"))\n",
      "score_data"
     ],
     "language": "python",
     "metadata": {},
     "outputs": [
      {
       "html": [
        "<div style=\"max-height:1000px;max-width:1500px;overflow:auto;\">\n",
        "<table border=\"1\" class=\"dataframe\">\n",
        "  <thead>\n",
        "    <tr style=\"text-align: right;\">\n",
        "      <th></th>\n",
        "      <th>points_from</th>\n",
        "      <th>points_to</th>\n",
        "      <th>frequency</th>\n",
        "    </tr>\n",
        "  </thead>\n",
        "  <tbody>\n",
        "    <tr>\n",
        "      <td><strong>0</strong></td>\n",
        "      <td>   0</td>\n",
        "      <td> 199</td>\n",
        "      <td>  5</td>\n",
        "    </tr>\n",
        "    <tr>\n",
        "      <td><strong>1</strong></td>\n",
        "      <td> 200</td>\n",
        "      <td> 399</td>\n",
        "      <td> 29</td>\n",
        "    </tr>\n",
        "    <tr>\n",
        "      <td><strong>2</strong></td>\n",
        "      <td> 400</td>\n",
        "      <td> 599</td>\n",
        "      <td> 56</td>\n",
        "    </tr>\n",
        "    <tr>\n",
        "      <td><strong>3</strong></td>\n",
        "      <td> 600</td>\n",
        "      <td> 799</td>\n",
        "      <td> 17</td>\n",
        "    </tr>\n",
        "    <tr>\n",
        "      <td><strong>4</strong></td>\n",
        "      <td> 800</td>\n",
        "      <td> 999</td>\n",
        "      <td>  3</td>\n",
        "    </tr>\n",
        "  </tbody>\n",
        "</table>\n",
        "</div>"
       ],
       "output_type": "pyout",
       "prompt_number": 214,
       "text": [
        "   points_from  points_to  frequency\n",
        "0            0        199          5\n",
        "1          200        399         29\n",
        "2          400        599         56\n",
        "3          600        799         17\n",
        "4          800        999          3"
       ]
      }
     ],
     "prompt_number": 214
    },
    {
     "cell_type": "code",
     "collapsed": false,
     "input": [
      "score_fig, score_axes = subplots(nrows=1, ncols=2)\n",
      "score_fig.set_size_inches(16,4)\n",
      "score_axes[0].bar(score_data.points_from, score_data.frequency, width=score_data.points_to-score_data.points_from+1, color=\"#cccccc\");\n",
      "score_axes[0].set_title(\"Frequency of games by points\");\n",
      "score_axes[0].set_xlabel(\"Points\");\n",
      "score_axes[0].set_ylabel(\"Frequency\");\n",
      "score_list = (score_data.points_to+score_data.points_from)/2\n",
      "score_scores = []\n",
      "for score in score_list:\n",
      "    score_scores.extend(repeat(score, score_data[(score_data.points_from <= score) & (score_data.points_to >= score)].frequency))\n",
      "score_axes[1].hist(score_scores, bins=sorted(set(list(score_data.points_from) + list(score_data.points_to+1))), color=\"#cccccc\")\n",
      "score_axes[1].set_title(\"Frequency of games by points\");\n",
      "score_axes[1].set_xlabel(\"Points\");\n",
      "score_axes[1].set_ylabel(\"Frequency\");"
     ],
     "language": "python",
     "metadata": {},
     "outputs": [
      {
       "output_type": "display_data",
       "png": "[encoded data removed]"
      }
     ],
     "prompt_number": 215
    },
    {
     "cell_type": "code",
     "collapsed": false,
     "input": [
      "gamelen_data = [(0,1,4300), (1,3,6900), (3,5,4900), (5,10,2000), (10,24,2100)]\n",
      "gamelen_data = DataFrame(gamelen_data, columns=(\"len_from\", \"len_to\", \"frequency\"))\n",
      "gamelen_data"
     ],
     "language": "python",
     "metadata": {},
     "outputs": [
      {
       "html": [
        "<div style=\"max-height:1000px;max-width:1500px;overflow:auto;\">\n",
        "<table border=\"1\" class=\"dataframe\">\n",
        "  <thead>\n",
        "    <tr style=\"text-align: right;\">\n",
        "      <th></th>\n",
        "      <th>len_from</th>\n",
        "      <th>len_to</th>\n",
        "      <th>frequency</th>\n",
        "    </tr>\n",
        "  </thead>\n",
        "  <tbody>\n",
        "    <tr>\n",
        "      <td><strong>0</strong></td>\n",
        "      <td>  0</td>\n",
        "      <td>  1</td>\n",
        "      <td> 4300</td>\n",
        "    </tr>\n",
        "    <tr>\n",
        "      <td><strong>1</strong></td>\n",
        "      <td>  1</td>\n",
        "      <td>  3</td>\n",
        "      <td> 6900</td>\n",
        "    </tr>\n",
        "    <tr>\n",
        "      <td><strong>2</strong></td>\n",
        "      <td>  3</td>\n",
        "      <td>  5</td>\n",
        "      <td> 4900</td>\n",
        "    </tr>\n",
        "    <tr>\n",
        "      <td><strong>3</strong></td>\n",
        "      <td>  5</td>\n",
        "      <td> 10</td>\n",
        "      <td> 2000</td>\n",
        "    </tr>\n",
        "    <tr>\n",
        "      <td><strong>4</strong></td>\n",
        "      <td> 10</td>\n",
        "      <td> 24</td>\n",
        "      <td> 2100</td>\n",
        "    </tr>\n",
        "  </tbody>\n",
        "</table>\n",
        "</div>"
       ],
       "output_type": "pyout",
       "prompt_number": 216,
       "text": [
        "   len_from  len_to  frequency\n",
        "0         0       1       4300\n",
        "1         1       3       6900\n",
        "2         3       5       4900\n",
        "3         5      10       2000\n",
        "4        10      24       2100"
       ]
      }
     ],
     "prompt_number": 216
    },
    {
     "cell_type": "code",
     "collapsed": false,
     "input": [
      "gamelen_fig, gamelen_axis = subplots(nrows=1, ncols=2)\n",
      "gamelen_fig.set_size_inches(16,4)\n",
      "gamelen_axis[0].bar(gamelen_data.len_from, gamelen_data.frequency, width=gamelen_data.len_to-gamelen_data.len_from, color=\"#cccccc\");\n",
      "gamelen_axis[0].set_title(\"Frequency of games by length\");\n",
      "gamelen_axis[0].set_xlabel(\"Length/h\");\n",
      "gamelen_axis[0].set_ylabel(\"Frequency\");\n",
      "gamelen_axis[0].spines['right'].set_color('none')\n",
      "gamelen_axis[0].spines['top'].set_color('none')\n",
      "gamelen_axis[0].xaxis.set_ticks_position('bottom')\n",
      "gamelen_axis[0].yaxis.set_ticks_position('left')\n",
      "gamelen_list = (gamelen_data.len_to+gamelen_data.len_from)/2\n",
      "gamelen_list2 = []\n",
      "for gamelen in gamelen_list:\n",
      "    gamelen_list2.extend(repeat(gamelen, gamelen_data[(gamelen_data.len_from <= gamelen) & (gamelen_data.len_to >= gamelen)].frequency))\n",
      "gamelen_axis[1].hist(gamelen_list2, bins=sorted(set(list(gamelen_data.len_from) + list(gamelen_data.len_to))), color=\"#cccccc\", normed=True)\n",
      "gamelen_axis[1].set_title(\"Frequency of games by length (normalized)\");\n",
      "gamelen_axis[1].set_xlabel(\"Length/h\");\n",
      "gamelen_axis[1].set_ylabel(\"Frequency\");\n",
      "gamelen_axis[1].spines['right'].set_color('none')\n",
      "gamelen_axis[1].spines['top'].set_color('none')\n",
      "gamelen_axis[1].xaxis.set_ticks_position('bottom')\n",
      "gamelen_axis[1].yaxis.set_ticks_position('left')\n"
     ],
     "language": "python",
     "metadata": {},
     "outputs": [
      {
       "output_type": "display_data",
       "png": "[encoded data removed]"
      }
     ],
     "prompt_number": 217
    },
    {
     "cell_type": "code",
     "collapsed": false,
     "input": [
      "gamelen_fig, gamelen_axis = subplots(nrows=1, ncols=1)\n",
      "gamelen_fig.set_size_inches(7,4)\n",
      "gamelen_axis.plot([0] + list(gamelen_data.len_to), [0] + list(gamelen_data.frequency.cumsum()));\n",
      "gamelen_axis.set_title(\"Cumulative sum of games by length\");\n",
      "gamelen_axis.set_xlabel(\"Length/h\");\n",
      "gamelen_axis.set_ylabel(\"Cumulative sum\");\n",
      "gamelen_axis.spines['right'].set_color('none')\n",
      "gamelen_axis.spines['top'].set_color('none')\n",
      "gamelen_axis.xaxis.set_ticks_position('bottom')\n",
      "gamelen_axis.yaxis.set_ticks_position('left')\n",
      "gamelen_axis.set_xlim(0)\n",
      "gamelen_axis.set_ylim(0, 22500);\n",
      "gamelen_axis.yaxis.set_major_locator(MultipleLocator(2500.0))"
     ],
     "language": "python",
     "metadata": {},
     "outputs": [
      {
       "output_type": "display_data",
       "png": "[encoded data removed]"
      }
     ],
     "prompt_number": 218
    },
    {
     "cell_type": "heading",
     "level": 2,
     "metadata": {},
     "source": [
      "2. Averages"
     ]
    },
    {
     "cell_type": "heading",
     "level": 3,
     "metadata": {},
     "source": [
      "Arithmetic Mean"
     ]
    },
    {
     "cell_type": "code",
     "collapsed": false,
     "input": [
      "power_ages = DataFrame([19,20,20,20,21], columns=[\"age\"])\n",
      "power_ages"
     ],
     "language": "python",
     "metadata": {},
     "outputs": [
      {
       "html": [
        "<div style=\"max-height:1000px;max-width:1500px;overflow:auto;\">\n",
        "<table border=\"1\" class=\"dataframe\">\n",
        "  <thead>\n",
        "    <tr style=\"text-align: right;\">\n",
        "      <th></th>\n",
        "      <th>age</th>\n",
        "    </tr>\n",
        "  </thead>\n",
        "  <tbody>\n",
        "    <tr>\n",
        "      <td><strong>0</strong></td>\n",
        "      <td> 19</td>\n",
        "    </tr>\n",
        "    <tr>\n",
        "      <td><strong>1</strong></td>\n",
        "      <td> 20</td>\n",
        "    </tr>\n",
        "    <tr>\n",
        "      <td><strong>2</strong></td>\n",
        "      <td> 20</td>\n",
        "    </tr>\n",
        "    <tr>\n",
        "      <td><strong>3</strong></td>\n",
        "      <td> 20</td>\n",
        "    </tr>\n",
        "    <tr>\n",
        "      <td><strong>4</strong></td>\n",
        "      <td> 21</td>\n",
        "    </tr>\n",
        "  </tbody>\n",
        "</table>\n",
        "</div>"
       ],
       "output_type": "pyout",
       "prompt_number": 219,
       "text": [
        "   age\n",
        "0   19\n",
        "1   20\n",
        "2   20\n",
        "3   20\n",
        "4   21"
       ]
      }
     ],
     "prompt_number": 219
    },
    {
     "cell_type": "markdown",
     "metadata": {},
     "source": [
      "Arithmetic mean:\n",
      "\\begin{equation}\n",
      "\\textrm{mean}(x_1,\\...,x_n)=\\overline x={1\\over n}\\sum_{i=1}^n x_i\n",
      "\\end{equation}"
     ]
    },
    {
     "cell_type": "code",
     "collapsed": false,
     "input": [
      "mean(power_ages.age)"
     ],
     "language": "python",
     "metadata": {},
     "outputs": [
      {
       "output_type": "pyout",
       "prompt_number": 220,
       "text": [
        "20.0"
       ]
      }
     ],
     "prompt_number": 220
    },
    {
     "cell_type": "code",
     "collapsed": false,
     "input": [
      "power_agefreqs = DataFrame([(19, 1), (20, 3), (21, 1)], columns=[\"age\", \"frequency\"])\n",
      "power_agefreqs"
     ],
     "language": "python",
     "metadata": {},
     "outputs": [
      {
       "html": [
        "<div style=\"max-height:1000px;max-width:1500px;overflow:auto;\">\n",
        "<table border=\"1\" class=\"dataframe\">\n",
        "  <thead>\n",
        "    <tr style=\"text-align: right;\">\n",
        "      <th></th>\n",
        "      <th>age</th>\n",
        "      <th>frequency</th>\n",
        "    </tr>\n",
        "  </thead>\n",
        "  <tbody>\n",
        "    <tr>\n",
        "      <td><strong>0</strong></td>\n",
        "      <td> 19</td>\n",
        "      <td> 1</td>\n",
        "    </tr>\n",
        "    <tr>\n",
        "      <td><strong>1</strong></td>\n",
        "      <td> 20</td>\n",
        "      <td> 3</td>\n",
        "    </tr>\n",
        "    <tr>\n",
        "      <td><strong>2</strong></td>\n",
        "      <td> 21</td>\n",
        "      <td> 1</td>\n",
        "    </tr>\n",
        "  </tbody>\n",
        "</table>\n",
        "</div>"
       ],
       "output_type": "pyout",
       "prompt_number": 221,
       "text": [
        "   age  frequency\n",
        "0   19          1\n",
        "1   20          3\n",
        "2   21          1"
       ]
      }
     ],
     "prompt_number": 221
    },
    {
     "cell_type": "code",
     "collapsed": false,
     "input": [
      "def avg(frame):\n",
      "    return sum(1. * frame.age * frame.frequency) / sum(frame.frequency)\n",
      "avg(power_agefreqs)"
     ],
     "language": "python",
     "metadata": {},
     "outputs": [
      {
       "output_type": "pyout",
       "prompt_number": 222,
       "text": [
        "20.0"
       ]
      }
     ],
     "prompt_number": 222
    },
    {
     "cell_type": "code",
     "collapsed": false,
     "input": [
      "kungfu_agefreqs = DataFrame([(19, 3), (20, 5), (21, 3), (136, 1), (138, 1)], columns=[\"age\", \"frequency\"])\n",
      "kungfu_agefreqs"
     ],
     "language": "python",
     "metadata": {},
     "outputs": [
      {
       "html": [
        "<div style=\"max-height:1000px;max-width:1500px;overflow:auto;\">\n",
        "<table border=\"1\" class=\"dataframe\">\n",
        "  <thead>\n",
        "    <tr style=\"text-align: right;\">\n",
        "      <th></th>\n",
        "      <th>age</th>\n",
        "      <th>frequency</th>\n",
        "    </tr>\n",
        "  </thead>\n",
        "  <tbody>\n",
        "    <tr>\n",
        "      <td><strong>0</strong></td>\n",
        "      <td>  19</td>\n",
        "      <td> 3</td>\n",
        "    </tr>\n",
        "    <tr>\n",
        "      <td><strong>1</strong></td>\n",
        "      <td>  20</td>\n",
        "      <td> 5</td>\n",
        "    </tr>\n",
        "    <tr>\n",
        "      <td><strong>2</strong></td>\n",
        "      <td>  21</td>\n",
        "      <td> 3</td>\n",
        "    </tr>\n",
        "    <tr>\n",
        "      <td><strong>3</strong></td>\n",
        "      <td> 136</td>\n",
        "      <td> 1</td>\n",
        "    </tr>\n",
        "    <tr>\n",
        "      <td><strong>4</strong></td>\n",
        "      <td> 138</td>\n",
        "      <td> 1</td>\n",
        "    </tr>\n",
        "  </tbody>\n",
        "</table>\n",
        "</div>"
       ],
       "output_type": "pyout",
       "prompt_number": 223,
       "text": [
        "   age  frequency\n",
        "0   19          3\n",
        "1   20          5\n",
        "2   21          3\n",
        "3  136          1\n",
        "4  138          1"
       ]
      }
     ],
     "prompt_number": 223
    },
    {
     "cell_type": "code",
     "collapsed": false,
     "input": [
      "avg(kungfu_agefreqs)"
     ],
     "language": "python",
     "metadata": {},
     "outputs": [
      {
       "output_type": "pyout",
       "prompt_number": 224,
       "text": [
        "38.0"
       ]
      }
     ],
     "prompt_number": 224
    },
    {
     "cell_type": "code",
     "collapsed": false,
     "input": [
      "agefreq_fig, agefreq_axes = subplots(nrows=1, ncols=2)\n",
      "agefreq_fig.set_size_inches(16,4)\n",
      "agefreq_axes[0].set_title(\"Age in Power-Workout\");\n",
      "agefreq_axes[0].bar(power_agefreqs.age, power_agefreqs.frequency, width=1, color=\"#cccccc\");\n",
      "agefreq_axes[0].set_xlim(18,24)\n",
      "agefreq_axes[0].set_ylim(0, 5)\n",
      "agefreq_axes[1].set_title(\"Age in Kung-Fu\");\n",
      "agefreq_axes[1].get_xaxis().set_visible(False)\n",
      "agefreq_axes[1].get_yaxis().set_visible(False)\n",
      "agefreq_axes[1].spines['bottom'].set_visible(False)\n",
      "agefreq_axes[1].spines['top'].set_visible(False)\n",
      "# Subdivide the right axes vertically: 1 row, 4 columns, select 3rd and 4th.\n",
      "agefreq1 = agefreq_fig.add_subplot(143)\n",
      "agefreq2 = agefreq_fig.add_subplot(144)\n",
      "agefreq1.set_ylim(0, 10)\n",
      "agefreq2.set_ylim(0, 10)\n",
      "agefreq1.set_xlim(18,24)\n",
      "agefreq2.set_xlim(135,140)\n",
      "agefreq1.bar(kungfu_agefreqs.age, kungfu_agefreqs.frequency, width=1, color=\"#cccccc\");\n",
      "agefreq2.bar(kungfu_agefreqs.age, kungfu_agefreqs.frequency, width=1, color=\"#cccccc\");\n",
      "agefreq1.spines['right'].set_visible(False)\n",
      "agefreq1.get_yaxis().tick_left()\n",
      "agefreq2.spines['left'].set_visible(False)\n",
      "agefreq2.get_yaxis().tick_right()\n",
      "agefreq2.tick_params(labelright='off')"
     ],
     "language": "python",
     "metadata": {},
     "outputs": [
      {
       "output_type": "display_data",
       "png": "[encoded data removed]"
      }
     ],
     "prompt_number": 225
    },
    {
     "cell_type": "heading",
     "level": 3,
     "metadata": {},
     "source": [
      "Median"
     ]
    },
    {
     "cell_type": "markdown",
     "metadata": {},
     "source": [
      "Note that the mean may not occur in the data.  The median has the advantage that it exists as a data point:"
     ]
    },
    {
     "cell_type": "code",
     "collapsed": false,
     "input": [
      "kungfu_ages = []\n",
      "for index, data in kungfu_agefreqs.iterrows():\n",
      "    kungfu_ages.extend(repeat(data[\"age\"], data[\"frequency\"]))\n",
      "mean(kungfu_ages), median(kungfu_ages)"
     ],
     "language": "python",
     "metadata": {},
     "outputs": [
      {
       "output_type": "pyout",
       "prompt_number": 226,
       "text": [
        "(38.0, 20.0)"
       ]
      }
     ],
     "prompt_number": 226
    },
    {
     "cell_type": "markdown",
     "metadata": {},
     "source": [
      "However, if the number of data points is even, the media is the value halfway between the two values around the middle:"
     ]
    },
    {
     "cell_type": "code",
     "collapsed": false,
     "input": [
      "median([10,20])"
     ],
     "language": "python",
     "metadata": {},
     "outputs": [
      {
       "output_type": "pyout",
       "prompt_number": 227,
       "text": [
        "15.0"
       ]
      }
     ],
     "prompt_number": 227
    },
    {
     "cell_type": "code",
     "collapsed": false,
     "input": [
      "skew_fig, skew_axes = subplots(nrows=1, ncols=3)\n",
      "skew_fig.set_size_inches(17,4)\n",
      "skew1 = randn(1000000)\n",
      "skew2 = exp(1+0.4*skew1)\n",
      "skew3 = -skew2\n",
      "skew_axes[0].set_title(\"Unskewed normal, mean = median\")\n",
      "skew_axes[0].hist(skew1, bins=30, normed=True, color=\"#cccccc\");\n",
      "skew_axes[0].plot(mean(skew1), 0.2, 'go');\n",
      "skew_axes[0].plot(median(skew1), 0.15, 'rD');\n",
      "skew_axes[0].set_xlim(-4,4)\n",
      "skew_axes[1].set_title(\"Right-skewed log-normal, median < mean\");\n",
      "skew_axes[1].hist(skew2, bins=30, normed=True, color=\"#cccccc\");\n",
      "skew_axes[1].plot(mean(skew2), 0.2, 'go');\n",
      "skew_axes[1].plot(median(skew2), 0.15, 'rD');\n",
      "skew_axes[1].set_xlim(0,10)\n",
      "skew_axes[2].set_title(\"Left-skewed (mirrored) log-normal, median > mean\");\n",
      "skew_axes[2].hist(skew3, bins=30, normed=True, color=\"#cccccc\");\n",
      "skew_axes[2].plot(mean(skew3), 0.2, 'go');\n",
      "skew_axes[2].plot(median(skew3), 0.15, 'rD');\n",
      "skew_axes[2].set_xlim(-10,0);\n"
     ],
     "language": "python",
     "metadata": {},
     "outputs": [
      {
       "output_type": "display_data",
       "png": "[encoded data removed]"
      }
     ],
     "prompt_number": 228
    },
    {
     "cell_type": "heading",
     "level": 3,
     "metadata": {},
     "source": [
      "Modal/Mode"
     ]
    },
    {
     "cell_type": "code",
     "collapsed": false,
     "input": [
      "swim_agefreqs = DataFrame([(1, 3), (2, 4), (3, 2), (31, 2), (32, 4), (33, 3)], columns=[\"age\", \"frequency\"])\n",
      "swim_agefreqs"
     ],
     "language": "python",
     "metadata": {},
     "outputs": [
      {
       "html": [
        "<div style=\"max-height:1000px;max-width:1500px;overflow:auto;\">\n",
        "<table border=\"1\" class=\"dataframe\">\n",
        "  <thead>\n",
        "    <tr style=\"text-align: right;\">\n",
        "      <th></th>\n",
        "      <th>age</th>\n",
        "      <th>frequency</th>\n",
        "    </tr>\n",
        "  </thead>\n",
        "  <tbody>\n",
        "    <tr>\n",
        "      <td><strong>0</strong></td>\n",
        "      <td>  1</td>\n",
        "      <td> 3</td>\n",
        "    </tr>\n",
        "    <tr>\n",
        "      <td><strong>1</strong></td>\n",
        "      <td>  2</td>\n",
        "      <td> 4</td>\n",
        "    </tr>\n",
        "    <tr>\n",
        "      <td><strong>2</strong></td>\n",
        "      <td>  3</td>\n",
        "      <td> 2</td>\n",
        "    </tr>\n",
        "    <tr>\n",
        "      <td><strong>3</strong></td>\n",
        "      <td> 31</td>\n",
        "      <td> 2</td>\n",
        "    </tr>\n",
        "    <tr>\n",
        "      <td><strong>4</strong></td>\n",
        "      <td> 32</td>\n",
        "      <td> 4</td>\n",
        "    </tr>\n",
        "    <tr>\n",
        "      <td><strong>5</strong></td>\n",
        "      <td> 33</td>\n",
        "      <td> 3</td>\n",
        "    </tr>\n",
        "  </tbody>\n",
        "</table>\n",
        "</div>"
       ],
       "output_type": "pyout",
       "prompt_number": 229,
       "text": [
        "   age  frequency\n",
        "0    1          3\n",
        "1    2          4\n",
        "2    3          2\n",
        "3   31          2\n",
        "4   32          4\n",
        "5   33          3"
       ]
      }
     ],
     "prompt_number": 229
    },
    {
     "cell_type": "markdown",
     "metadata": {},
     "source": [
      "The mean and median are both misleading in this case:"
     ]
    },
    {
     "cell_type": "code",
     "collapsed": false,
     "input": [
      "swim_ages = []\n",
      "for index, data in swim_agefreqs.iterrows():\n",
      "    swim_ages.extend(repeat(data[\"age\"], data[\"frequency\"]))\n",
      "mean(swim_ages), median(swim_ages)"
     ],
     "language": "python",
     "metadata": {},
     "outputs": [
      {
       "output_type": "pyout",
       "prompt_number": 230,
       "text": [
        "(17.0, 17.0)"
       ]
      }
     ],
     "prompt_number": 230
    },
    {
     "cell_type": "code",
     "collapsed": false,
     "input": [
      "import scipy.stats\n",
      "val, cnt = scipy.stats.mstats.mode(array(swim_ages))\n",
      "val"
     ],
     "language": "python",
     "metadata": {},
     "outputs": [
      {
       "output_type": "pyout",
       "prompt_number": 231,
       "text": [
        "array([ 2.])"
       ]
      }
     ],
     "prompt_number": 231
    },
    {
     "cell_type": "markdown",
     "metadata": {},
     "source": [
      "Note that 32 is another mode."
     ]
    },
    {
     "cell_type": "heading",
     "level": 2,
     "metadata": {},
     "source": [
      "3. Variance and Deviation"
     ]
    },
    {
     "cell_type": "heading",
     "level": 3,
     "metadata": {},
     "source": [
      "Span, Interquantildistance, Percentils"
     ]
    },
    {
     "cell_type": "code",
     "collapsed": false,
     "input": [
      "player1 = DataFrame([(7,1),(8,1),(9,2),(10,3),(11,2),(12,1),(13,1)], columns=(\"points\", \"frequency\"))\n",
      "player2 = DataFrame([(7,1),(9,2),(10,5),(11,2),(13,1)], columns=(\"points\", \"frequency\"))\n",
      "player3 = DataFrame([(3,2),(6,1),(7,2),(10,3),(11,1),(13,1),(30,1)], columns=(\"points\", \"frequency\"))\n",
      "player1[\"player\"] = 1\n",
      "player2[\"player\"] = 2\n",
      "player3[\"player\"] = 3\n",
      "player_stats = pandas.concat([player1, player2, player3])\n",
      "player_stats"
     ],
     "language": "python",
     "metadata": {},
     "outputs": [
      {
       "html": [
        "<div style=\"max-height:1000px;max-width:1500px;overflow:auto;\">\n",
        "<table border=\"1\" class=\"dataframe\">\n",
        "  <thead>\n",
        "    <tr style=\"text-align: right;\">\n",
        "      <th></th>\n",
        "      <th>points</th>\n",
        "      <th>frequency</th>\n",
        "      <th>player</th>\n",
        "    </tr>\n",
        "  </thead>\n",
        "  <tbody>\n",
        "    <tr>\n",
        "      <td><strong>0</strong></td>\n",
        "      <td>  7</td>\n",
        "      <td> 1</td>\n",
        "      <td> 1</td>\n",
        "    </tr>\n",
        "    <tr>\n",
        "      <td><strong>1</strong></td>\n",
        "      <td>  8</td>\n",
        "      <td> 1</td>\n",
        "      <td> 1</td>\n",
        "    </tr>\n",
        "    <tr>\n",
        "      <td><strong>2</strong></td>\n",
        "      <td>  9</td>\n",
        "      <td> 2</td>\n",
        "      <td> 1</td>\n",
        "    </tr>\n",
        "    <tr>\n",
        "      <td><strong>3</strong></td>\n",
        "      <td> 10</td>\n",
        "      <td> 3</td>\n",
        "      <td> 1</td>\n",
        "    </tr>\n",
        "    <tr>\n",
        "      <td><strong>4</strong></td>\n",
        "      <td> 11</td>\n",
        "      <td> 2</td>\n",
        "      <td> 1</td>\n",
        "    </tr>\n",
        "    <tr>\n",
        "      <td><strong>5</strong></td>\n",
        "      <td> 12</td>\n",
        "      <td> 1</td>\n",
        "      <td> 1</td>\n",
        "    </tr>\n",
        "    <tr>\n",
        "      <td><strong>6</strong></td>\n",
        "      <td> 13</td>\n",
        "      <td> 1</td>\n",
        "      <td> 1</td>\n",
        "    </tr>\n",
        "    <tr>\n",
        "      <td><strong>0</strong></td>\n",
        "      <td>  7</td>\n",
        "      <td> 1</td>\n",
        "      <td> 2</td>\n",
        "    </tr>\n",
        "    <tr>\n",
        "      <td><strong>1</strong></td>\n",
        "      <td>  9</td>\n",
        "      <td> 2</td>\n",
        "      <td> 2</td>\n",
        "    </tr>\n",
        "    <tr>\n",
        "      <td><strong>2</strong></td>\n",
        "      <td> 10</td>\n",
        "      <td> 5</td>\n",
        "      <td> 2</td>\n",
        "    </tr>\n",
        "    <tr>\n",
        "      <td><strong>3</strong></td>\n",
        "      <td> 11</td>\n",
        "      <td> 2</td>\n",
        "      <td> 2</td>\n",
        "    </tr>\n",
        "    <tr>\n",
        "      <td><strong>4</strong></td>\n",
        "      <td> 13</td>\n",
        "      <td> 1</td>\n",
        "      <td> 2</td>\n",
        "    </tr>\n",
        "    <tr>\n",
        "      <td><strong>0</strong></td>\n",
        "      <td>  3</td>\n",
        "      <td> 2</td>\n",
        "      <td> 3</td>\n",
        "    </tr>\n",
        "    <tr>\n",
        "      <td><strong>1</strong></td>\n",
        "      <td>  6</td>\n",
        "      <td> 1</td>\n",
        "      <td> 3</td>\n",
        "    </tr>\n",
        "    <tr>\n",
        "      <td><strong>2</strong></td>\n",
        "      <td>  7</td>\n",
        "      <td> 2</td>\n",
        "      <td> 3</td>\n",
        "    </tr>\n",
        "    <tr>\n",
        "      <td><strong>3</strong></td>\n",
        "      <td> 10</td>\n",
        "      <td> 3</td>\n",
        "      <td> 3</td>\n",
        "    </tr>\n",
        "    <tr>\n",
        "      <td><strong>4</strong></td>\n",
        "      <td> 11</td>\n",
        "      <td> 1</td>\n",
        "      <td> 3</td>\n",
        "    </tr>\n",
        "    <tr>\n",
        "      <td><strong>5</strong></td>\n",
        "      <td> 13</td>\n",
        "      <td> 1</td>\n",
        "      <td> 3</td>\n",
        "    </tr>\n",
        "    <tr>\n",
        "      <td><strong>6</strong></td>\n",
        "      <td> 30</td>\n",
        "      <td> 1</td>\n",
        "      <td> 3</td>\n",
        "    </tr>\n",
        "  </tbody>\n",
        "</table>\n",
        "</div>"
       ],
       "output_type": "pyout",
       "prompt_number": 232,
       "text": [
        "   points  frequency  player\n",
        "0       7          1       1\n",
        "1       8          1       1\n",
        "2       9          2       1\n",
        "3      10          3       1\n",
        "4      11          2       1\n",
        "5      12          1       1\n",
        "6      13          1       1\n",
        "0       7          1       2\n",
        "1       9          2       2\n",
        "2      10          5       2\n",
        "3      11          2       2\n",
        "4      13          1       2\n",
        "0       3          2       3\n",
        "1       6          1       3\n",
        "2       7          2       3\n",
        "3      10          3       3\n",
        "4      11          1       3\n",
        "5      13          1       3\n",
        "6      30          1       3"
       ]
      }
     ],
     "prompt_number": 232
    },
    {
     "cell_type": "code",
     "collapsed": false,
     "input": [
      "player_data = []\n",
      "\n",
      "def get_stats(pstats):\n",
      "    player, stats = pstats\n",
      "    vals = []\n",
      "    for index, data in stats.iterrows():\n",
      "        vals.extend(repeat(data[\"points\"], data[\"frequency\"]))\n",
      "    vals = array(vals)\n",
      "    player_data.append(vals)\n",
      "    return player, mean(vals), median(vals), scipy.stats.mstats.mode(vals)[0][0], amin(vals), amax(vals), percentile(vals,25), percentile(vals,75)\n",
      "\n",
      "player_avgs = DataFrame(map(get_stats, player_stats.groupby(player_stats.player)),\n",
      "                        columns=(\"player\", \"mean\", \"median\", \"mode\", \"minpoints\", \"maxpoints\", \"q1\",\"q3\"))\n",
      "player_avgs"
     ],
     "language": "python",
     "metadata": {},
     "outputs": [
      {
       "html": [
        "<div style=\"max-height:1000px;max-width:1500px;overflow:auto;\">\n",
        "<table border=\"1\" class=\"dataframe\">\n",
        "  <thead>\n",
        "    <tr style=\"text-align: right;\">\n",
        "      <th></th>\n",
        "      <th>player</th>\n",
        "      <th>mean</th>\n",
        "      <th>median</th>\n",
        "      <th>mode</th>\n",
        "      <th>minpoints</th>\n",
        "      <th>maxpoints</th>\n",
        "      <th>q1</th>\n",
        "      <th>q3</th>\n",
        "    </tr>\n",
        "  </thead>\n",
        "  <tbody>\n",
        "    <tr>\n",
        "      <td><strong>0</strong></td>\n",
        "      <td> 1</td>\n",
        "      <td> 10</td>\n",
        "      <td> 10</td>\n",
        "      <td> 10</td>\n",
        "      <td> 7</td>\n",
        "      <td> 13</td>\n",
        "      <td> 9.0</td>\n",
        "      <td> 11.0</td>\n",
        "    </tr>\n",
        "    <tr>\n",
        "      <td><strong>1</strong></td>\n",
        "      <td> 2</td>\n",
        "      <td> 10</td>\n",
        "      <td> 10</td>\n",
        "      <td> 10</td>\n",
        "      <td> 7</td>\n",
        "      <td> 13</td>\n",
        "      <td> 9.5</td>\n",
        "      <td> 10.5</td>\n",
        "    </tr>\n",
        "    <tr>\n",
        "      <td><strong>2</strong></td>\n",
        "      <td> 3</td>\n",
        "      <td> 10</td>\n",
        "      <td> 10</td>\n",
        "      <td> 10</td>\n",
        "      <td> 3</td>\n",
        "      <td> 30</td>\n",
        "      <td> 6.5</td>\n",
        "      <td> 10.5</td>\n",
        "    </tr>\n",
        "  </tbody>\n",
        "</table>\n",
        "</div>"
       ],
       "output_type": "pyout",
       "prompt_number": 233,
       "text": [
        "   player  mean  median  mode  minpoints  maxpoints   q1    q3\n",
        "0       1    10      10    10          7         13  9.0  11.0\n",
        "1       2    10      10    10          7         13  9.5  10.5\n",
        "2       3    10      10    10          3         30  6.5  10.5"
       ]
      }
     ],
     "prompt_number": 233
    },
    {
     "cell_type": "code",
     "collapsed": false,
     "input": [
      "player_avgs['span'] = player_avgs.maxpoints - player_avgs.minpoints\n",
      "player_avgs['interq'] = player_avgs.q3 - player_avgs.q1\n",
      "player_avgs[['player', 'span', 'interq']]"
     ],
     "language": "python",
     "metadata": {},
     "outputs": [
      {
       "html": [
        "<div style=\"max-height:1000px;max-width:1500px;overflow:auto;\">\n",
        "<table border=\"1\" class=\"dataframe\">\n",
        "  <thead>\n",
        "    <tr style=\"text-align: right;\">\n",
        "      <th></th>\n",
        "      <th>player</th>\n",
        "      <th>span</th>\n",
        "      <th>interq</th>\n",
        "    </tr>\n",
        "  </thead>\n",
        "  <tbody>\n",
        "    <tr>\n",
        "      <td><strong>0</strong></td>\n",
        "      <td> 1</td>\n",
        "      <td>  6</td>\n",
        "      <td> 2</td>\n",
        "    </tr>\n",
        "    <tr>\n",
        "      <td><strong>1</strong></td>\n",
        "      <td> 2</td>\n",
        "      <td>  6</td>\n",
        "      <td> 1</td>\n",
        "    </tr>\n",
        "    <tr>\n",
        "      <td><strong>2</strong></td>\n",
        "      <td> 3</td>\n",
        "      <td> 27</td>\n",
        "      <td> 4</td>\n",
        "    </tr>\n",
        "  </tbody>\n",
        "</table>\n",
        "</div>"
       ],
       "output_type": "pyout",
       "prompt_number": 234,
       "text": [
        "   player  span  interq\n",
        "0       1     6       2\n",
        "1       2     6       1\n",
        "2       3    27       4"
       ]
      }
     ],
     "prompt_number": 234
    },
    {
     "cell_type": "code",
     "collapsed": false,
     "input": [
      "player_fig, player_axes = subplots()\n",
      "player_fig.set_size_inches(7,4)\n",
      "player_axes.boxplot(player_data, vert=False, whis=1.5);\n",
      "player_axes.set_title(\"Results of basketball players\");\n",
      "player_axes.set_xlim(0,33)"
     ],
     "language": "python",
     "metadata": {},
     "outputs": [
      {
       "output_type": "pyout",
       "prompt_number": 235,
       "text": [
        "(0, 33)"
       ]
      },
      {
       "output_type": "display_data",
       "png": "[encoded data removed]"
      }
     ],
     "prompt_number": 235
    },
    {
     "cell_type": "heading",
     "level": 3,
     "metadata": {},
     "source": [
      "Variance, Standard Deviation"
     ]
    },
    {
     "cell_type": "markdown",
     "metadata": {},
     "source": [
      "\\begin{equation}\n",
      "V(x) = {1 \\over n} \\sum_i(x_i-\\overline x)^2\n",
      "\\end{equation}\n",
      "\n",
      "\\begin{equation}\n",
      "\\sigma(x) = \\sqrt{V(x)}\n",
      "\\end{equation}\n",
      "\n",
      "A discussion for possible reasons why we prefer the mean square error can be found here: http://stats.stackexchange.com/questions/118/why-square-the-difference-instead-of-taking-the-absolute-value-in-standard-devia"
     ]
    },
    {
     "cell_type": "code",
     "collapsed": false,
     "input": [
      "player_avgs[\"var\"] = var(player_data, axis=1)\n",
      "player_avgs[\"std\"] = std(player_data, axis=1)\n",
      "player_avgs[[\"player\", \"var\", \"std\"]]"
     ],
     "language": "python",
     "metadata": {},
     "outputs": [
      {
       "html": [
        "<div style=\"max-height:1000px;max-width:1500px;overflow:auto;\">\n",
        "<table border=\"1\" class=\"dataframe\">\n",
        "  <thead>\n",
        "    <tr style=\"text-align: right;\">\n",
        "      <th></th>\n",
        "      <th>player</th>\n",
        "      <th>var</th>\n",
        "      <th>std</th>\n",
        "    </tr>\n",
        "  </thead>\n",
        "  <tbody>\n",
        "    <tr>\n",
        "      <td><strong>0</strong></td>\n",
        "      <td> 1</td>\n",
        "      <td>  2.727273</td>\n",
        "      <td> 1.651446</td>\n",
        "    </tr>\n",
        "    <tr>\n",
        "      <td><strong>1</strong></td>\n",
        "      <td> 2</td>\n",
        "      <td>  2.000000</td>\n",
        "      <td> 1.414214</td>\n",
        "    </tr>\n",
        "    <tr>\n",
        "      <td><strong>2</strong></td>\n",
        "      <td> 3</td>\n",
        "      <td> 49.272727</td>\n",
        "      <td> 7.019453</td>\n",
        "    </tr>\n",
        "  </tbody>\n",
        "</table>\n",
        "</div>"
       ],
       "output_type": "pyout",
       "prompt_number": 236,
       "text": [
        "   player        var       std\n",
        "0       1   2.727273  1.651446\n",
        "1       2   2.000000  1.414214\n",
        "2       3  49.272727  7.019453"
       ]
      }
     ],
     "prompt_number": 236
    },
    {
     "cell_type": "heading",
     "level": 3,
     "metadata": {},
     "source": [
      "Standard Score (z-score)"
     ]
    },
    {
     "cell_type": "markdown",
     "metadata": {},
     "source": [
      "\\begin{equation}\n",
      "z(x) = \\frac{ x - \\overline{x} }{ \\sigma(x) }\n",
      "\\end{equation}"
     ]
    },
    {
     "cell_type": "code",
     "collapsed": false,
     "input": [
      "scipy.stats.mstats.zscore(player_data[0]);\n",
      "player_points = player_avgs[\"mean\"] + player_avgs[\"std\"]\n",
      "array([scipy.stats.zmap([10, 11, player_points[0], 12, 30],\n",
      " player_data[0]), scipy.stats.zmap([10, 11, 12, 30],\n",
      " player_data[1]), scipy.stats.zmap([10, 11, 12, 30], player_data[2])])"
     ],
     "language": "python",
     "metadata": {},
     "outputs": [
      {
       "output_type": "pyout",
       "prompt_number": 237,
       "text": [
        "array([ array([  0.        ,   0.60553007,   1.        ,   1.21106014,  12.11060142]),\n",
        "       array([  0.        ,   0.70710678,   1.41421356,  14.14213562]),\n",
        "       array([ 0.        ,  0.14246123,  0.28492247,  2.84922466])], dtype=object)"
       ]
      }
     ],
     "prompt_number": 237
    },
    {
     "cell_type": "code",
     "collapsed": false,
     "input": [],
     "language": "python",
     "metadata": {},
     "outputs": [],
     "prompt_number": 237
    }
   ],
   "metadata": {}
  }
 ]
}